{
 "cells": [
  {
   "cell_type": "markdown",
   "metadata": {},
   "source": [
    "### Predict TTC delays by creating a machine learning model in Python"
   ]
  },
  {
   "cell_type": "markdown",
   "metadata": {},
   "source": [
    "We will import ttc data into a Jupyter notebook and use Pandas to clean it. Then, build a machine learning model with Scikit-Learn and use Matplotlib to visualize output."
   ]
  },
  {
   "cell_type": "markdown",
   "metadata": {},
   "source": [
    "### 1. Add Liberaries\n"
   ]
  },
  {
   "cell_type": "code",
   "execution_count": 1,
   "metadata": {},
   "outputs": [],
   "source": [
    "import pandas as pd\n",
    "import glob\n",
    "import requests\n",
    "import urllib, json\n",
    "import warnings\n",
    "warnings.filterwarnings(\"ignore\")"
   ]
  },
  {
   "cell_type": "markdown",
   "metadata": {},
   "source": [
    "### 2. Read and explore the dataset\n",
    "\n",
    " Load ttc_data.xlsx, create a Pandas DataFrame from it, and display the first five rows."
   ]
  },
  {
   "cell_type": "code",
   "execution_count": 2,
   "metadata": {},
   "outputs": [
    {
     "name": "stdout",
     "output_type": "stream",
     "text": [
      "CPU times: user 2 µs, sys: 0 ns, total: 2 µs\n",
      "Wall time: 6.2 µs\n"
     ]
    }
   ],
   "source": [
    "#Read and explore the dataset\n",
    "%time\n",
    "ttc_df = pd.read_excel(\"ttc_data.xlsx\")"
   ]
  },
  {
   "cell_type": "code",
   "execution_count": 3,
   "metadata": {},
   "outputs": [
    {
     "data": {
      "text/html": [
       "<div>\n",
       "<style scoped>\n",
       "    .dataframe tbody tr th:only-of-type {\n",
       "        vertical-align: middle;\n",
       "    }\n",
       "\n",
       "    .dataframe tbody tr th {\n",
       "        vertical-align: top;\n",
       "    }\n",
       "\n",
       "    .dataframe thead th {\n",
       "        text-align: right;\n",
       "    }\n",
       "</style>\n",
       "<table border=\"1\" class=\"dataframe\">\n",
       "  <thead>\n",
       "    <tr style=\"text-align: right;\">\n",
       "      <th></th>\n",
       "      <th>Unnamed: 0</th>\n",
       "      <th>Date</th>\n",
       "      <th>Time</th>\n",
       "      <th>Day</th>\n",
       "      <th>Station</th>\n",
       "      <th>Code</th>\n",
       "      <th>Min Delay</th>\n",
       "      <th>Min Gap</th>\n",
       "      <th>Bound</th>\n",
       "      <th>Line</th>\n",
       "      <th>Vehicle</th>\n",
       "    </tr>\n",
       "  </thead>\n",
       "  <tbody>\n",
       "    <tr>\n",
       "      <th>0</th>\n",
       "      <td>0</td>\n",
       "      <td>2014-01-01</td>\n",
       "      <td>00:21</td>\n",
       "      <td>Wednesday</td>\n",
       "      <td>VICTORIA PARK STATION</td>\n",
       "      <td>MUPR1</td>\n",
       "      <td>55</td>\n",
       "      <td>60</td>\n",
       "      <td>W</td>\n",
       "      <td>BD</td>\n",
       "      <td>5111</td>\n",
       "    </tr>\n",
       "    <tr>\n",
       "      <th>1</th>\n",
       "      <td>1</td>\n",
       "      <td>2014-01-01</td>\n",
       "      <td>02:06</td>\n",
       "      <td>Wednesday</td>\n",
       "      <td>HIGH PARK STATION</td>\n",
       "      <td>SUDP</td>\n",
       "      <td>3</td>\n",
       "      <td>7</td>\n",
       "      <td>W</td>\n",
       "      <td>BD</td>\n",
       "      <td>5001</td>\n",
       "    </tr>\n",
       "    <tr>\n",
       "      <th>2</th>\n",
       "      <td>2</td>\n",
       "      <td>2014-01-01</td>\n",
       "      <td>02:40</td>\n",
       "      <td>Wednesday</td>\n",
       "      <td>SHEPPARD STATION</td>\n",
       "      <td>MUNCA</td>\n",
       "      <td>0</td>\n",
       "      <td>0</td>\n",
       "      <td>NaN</td>\n",
       "      <td>YU</td>\n",
       "      <td>0</td>\n",
       "    </tr>\n",
       "    <tr>\n",
       "      <th>3</th>\n",
       "      <td>3</td>\n",
       "      <td>2014-01-01</td>\n",
       "      <td>03:10</td>\n",
       "      <td>Wednesday</td>\n",
       "      <td>LANSDOWNE STATION</td>\n",
       "      <td>SUDP</td>\n",
       "      <td>3</td>\n",
       "      <td>8</td>\n",
       "      <td>W</td>\n",
       "      <td>BD</td>\n",
       "      <td>5116</td>\n",
       "    </tr>\n",
       "    <tr>\n",
       "      <th>4</th>\n",
       "      <td>4</td>\n",
       "      <td>2014-01-01</td>\n",
       "      <td>03:20</td>\n",
       "      <td>Wednesday</td>\n",
       "      <td>BLOOR STATION</td>\n",
       "      <td>MUSAN</td>\n",
       "      <td>5</td>\n",
       "      <td>10</td>\n",
       "      <td>S</td>\n",
       "      <td>YU</td>\n",
       "      <td>5386</td>\n",
       "    </tr>\n",
       "  </tbody>\n",
       "</table>\n",
       "</div>"
      ],
      "text/plain": [
       "   Unnamed: 0       Date   Time        Day                Station   Code  \\\n",
       "0           0 2014-01-01  00:21  Wednesday  VICTORIA PARK STATION  MUPR1   \n",
       "1           1 2014-01-01  02:06  Wednesday      HIGH PARK STATION   SUDP   \n",
       "2           2 2014-01-01  02:40  Wednesday       SHEPPARD STATION  MUNCA   \n",
       "3           3 2014-01-01  03:10  Wednesday      LANSDOWNE STATION   SUDP   \n",
       "4           4 2014-01-01  03:20  Wednesday          BLOOR STATION  MUSAN   \n",
       "\n",
       "   Min Delay  Min Gap Bound Line  Vehicle  \n",
       "0         55       60     W   BD     5111  \n",
       "1          3        7     W   BD     5001  \n",
       "2          0        0   NaN   YU        0  \n",
       "3          3        8     W   BD     5116  \n",
       "4          5       10     S   YU     5386  "
      ]
     },
     "execution_count": 3,
     "metadata": {},
     "output_type": "execute_result"
    }
   ],
   "source": [
    "ttc_df.head()"
   ]
  },
  {
   "cell_type": "markdown",
   "metadata": {},
   "source": [
    "One of the first things we typically want to know about a dataset is how many rows it contains. We can get the count the dataset.\n"
   ]
  },
  {
   "cell_type": "code",
   "execution_count": 4,
   "metadata": {},
   "outputs": [
    {
     "data": {
      "text/plain": [
       "(112513, 11)"
      ]
     },
     "execution_count": 4,
     "metadata": {},
     "output_type": "execute_result"
    }
   ],
   "source": [
    "ttc_df.shape"
   ]
  },
  {
   "cell_type": "code",
   "execution_count": 5,
   "metadata": {},
   "outputs": [
    {
     "data": {
      "text/plain": [
       "['Unnamed: 0',\n",
       " 'Date',\n",
       " 'Time',\n",
       " 'Day',\n",
       " 'Station',\n",
       " 'Code',\n",
       " 'Min Delay',\n",
       " 'Min Gap',\n",
       " 'Bound',\n",
       " 'Line',\n",
       " 'Vehicle']"
      ]
     },
     "execution_count": 5,
     "metadata": {},
     "output_type": "execute_result"
    }
   ],
   "source": [
    "list(ttc_df.columns.values) "
   ]
  },
  {
   "cell_type": "markdown",
   "metadata": {},
   "source": [
    "Here is the complete list of columns in the dataset"
   ]
  },
  {
   "cell_type": "markdown",
   "metadata": {},
   "source": [
    "### Data Dictionary\n",
    "    - Date\t     Date (YYYY/MM/DD)\t                              12/31/16\n",
    "    - Time\t     Time (24h clock)\t                               1:59\n",
    "    - Day\t      Name of the day of the week\t                    Saturday \n",
    "    - Station\t  TTC subway station name\t                        Rosedale Station\n",
    "    - Code\t     TTC delay code\t                                 MUIS\n",
    "    - Min Delay\tDelay (in minutes) to subway service\t           5 \n",
    "    - Min Gap\t  Time length (in minutes) between trains\t        9\n",
    "    - Bound\t    Direction of train dependant on the line\t       N\n",
    "    - Line\t     TTC subway line i.e.  YU, BD, SHP, and SRT\t     YU\n",
    "    - Vehicle\t  TTC train number\t                               5961"
   ]
  },
  {
   "cell_type": "markdown",
   "metadata": {},
   "source": [
    "### 3. Feature Engineering \n",
    "\n",
    "After exploration we can add more features to this dataset. Following is the list of features we will add:\n",
    "\n",
    "- Separate the Bounds (East, West,North,South)\n",
    "- Separate Weekend Delays (Weekend Sat, Weend Sun)\n",
    "- Isolating the month, year, and day of the week as separate features (Day,Month,Year)\n",
    "- Add City Column to the dataset\n",
    "- Get part of the day (Morning, Afternoon, Evening,Night)\n",
    "- Addt Hour and Minute column from Timestamp\n",
    "- Add latitude and longitude (lat,lon)"
   ]
  },
  {
   "cell_type": "code",
   "execution_count": 8,
   "metadata": {},
   "outputs": [],
   "source": [
    "#Separate bounds\n",
    "ttc_df[\"East Bound\"] = ttc_df[\"Bound\"] == 'E'\n",
    "ttc_df[\"West Bound\"] = ttc_df[\"Bound\"] == 'W'\n",
    "ttc_df[\"North Bound\"] = ttc_df[\"Bound\"] == 'N'\n",
    "ttc_df[\"South Bound\"] = ttc_df[\"Bound\"] == 'S'\n",
    "\n",
    "# Separate Weekend Delays\n",
    "ttc_df[\"Weekend-Sat\"] = ttc_df[\"Day\"] == 'Saturday'\n",
    "ttc_df[\"Weekend-Sun\"] = ttc_df[\"Day\"] == 'Sunday'\n",
    "\n",
    "#Isolating the month, year, and day of the week as separate predictors\n",
    "#The numeric day of the year (ignoring the calendar year)\n",
    "#if there were a seasonal component to these data, and it appears\n",
    "#that there is, then the numeric day of the year would be best. Also, if some\n",
    "#months showed higher success rates than others those should be taken into further EDA\n",
    "#the month is preferable.\n",
    "\n",
    "ttc_df['Year'] = pd.DatetimeIndex(ttc_df['Date']).year\n",
    "ttc_df['Month'] = pd.DatetimeIndex(ttc_df['Date']).month\n",
    "ttc_df['Day'] = pd.DatetimeIndex(ttc_df['Date']).day\n",
    "\n",
    "#add city column\n",
    "ttc_df['City'] = 'Toronto'\n",
    "#ttc_df"
   ]
  },
  {
   "cell_type": "code",
   "execution_count": 9,
   "metadata": {},
   "outputs": [],
   "source": [
    "\n",
    "ttc_df['Station_Location'] = ttc_df['Station'] + ' ' + ttc_df['City']\n",
    "#ttc_df['Station_Location']\n"
   ]
  },
  {
   "cell_type": "code",
   "execution_count": 10,
   "metadata": {},
   "outputs": [
    {
     "data": {
      "text/html": [
       "<div>\n",
       "<style scoped>\n",
       "    .dataframe tbody tr th:only-of-type {\n",
       "        vertical-align: middle;\n",
       "    }\n",
       "\n",
       "    .dataframe tbody tr th {\n",
       "        vertical-align: top;\n",
       "    }\n",
       "\n",
       "    .dataframe thead th {\n",
       "        text-align: right;\n",
       "    }\n",
       "</style>\n",
       "<table border=\"1\" class=\"dataframe\">\n",
       "  <thead>\n",
       "    <tr style=\"text-align: right;\">\n",
       "      <th></th>\n",
       "      <th>Unnamed: 0</th>\n",
       "      <th>Date</th>\n",
       "      <th>Time</th>\n",
       "      <th>Day</th>\n",
       "      <th>Station</th>\n",
       "      <th>Code</th>\n",
       "      <th>Min Delay</th>\n",
       "      <th>Min Gap</th>\n",
       "      <th>Bound</th>\n",
       "      <th>Line</th>\n",
       "      <th>...</th>\n",
       "      <th>East Bound</th>\n",
       "      <th>West Bound</th>\n",
       "      <th>North Bound</th>\n",
       "      <th>South Bound</th>\n",
       "      <th>Weekend-Sat</th>\n",
       "      <th>Weekend-Sun</th>\n",
       "      <th>Year</th>\n",
       "      <th>Month</th>\n",
       "      <th>City</th>\n",
       "      <th>Station_Location</th>\n",
       "    </tr>\n",
       "  </thead>\n",
       "  <tbody>\n",
       "    <tr>\n",
       "      <th>0</th>\n",
       "      <td>0</td>\n",
       "      <td>2014-01-01</td>\n",
       "      <td>00:21</td>\n",
       "      <td>1</td>\n",
       "      <td>VICTORIA PARK STATION</td>\n",
       "      <td>MUPR1</td>\n",
       "      <td>55</td>\n",
       "      <td>60</td>\n",
       "      <td>W</td>\n",
       "      <td>BD</td>\n",
       "      <td>...</td>\n",
       "      <td>False</td>\n",
       "      <td>True</td>\n",
       "      <td>False</td>\n",
       "      <td>False</td>\n",
       "      <td>False</td>\n",
       "      <td>False</td>\n",
       "      <td>2014</td>\n",
       "      <td>1</td>\n",
       "      <td>Toronto</td>\n",
       "      <td>VICTORIA PARK STATION Toronto</td>\n",
       "    </tr>\n",
       "    <tr>\n",
       "      <th>1</th>\n",
       "      <td>1</td>\n",
       "      <td>2014-01-01</td>\n",
       "      <td>02:06</td>\n",
       "      <td>1</td>\n",
       "      <td>HIGH PARK STATION</td>\n",
       "      <td>SUDP</td>\n",
       "      <td>3</td>\n",
       "      <td>7</td>\n",
       "      <td>W</td>\n",
       "      <td>BD</td>\n",
       "      <td>...</td>\n",
       "      <td>False</td>\n",
       "      <td>True</td>\n",
       "      <td>False</td>\n",
       "      <td>False</td>\n",
       "      <td>False</td>\n",
       "      <td>False</td>\n",
       "      <td>2014</td>\n",
       "      <td>1</td>\n",
       "      <td>Toronto</td>\n",
       "      <td>HIGH PARK STATION Toronto</td>\n",
       "    </tr>\n",
       "    <tr>\n",
       "      <th>2</th>\n",
       "      <td>2</td>\n",
       "      <td>2014-01-01</td>\n",
       "      <td>02:40</td>\n",
       "      <td>1</td>\n",
       "      <td>SHEPPARD STATION</td>\n",
       "      <td>MUNCA</td>\n",
       "      <td>0</td>\n",
       "      <td>0</td>\n",
       "      <td>NaN</td>\n",
       "      <td>YU</td>\n",
       "      <td>...</td>\n",
       "      <td>False</td>\n",
       "      <td>False</td>\n",
       "      <td>False</td>\n",
       "      <td>False</td>\n",
       "      <td>False</td>\n",
       "      <td>False</td>\n",
       "      <td>2014</td>\n",
       "      <td>1</td>\n",
       "      <td>Toronto</td>\n",
       "      <td>SHEPPARD STATION Toronto</td>\n",
       "    </tr>\n",
       "    <tr>\n",
       "      <th>3</th>\n",
       "      <td>3</td>\n",
       "      <td>2014-01-01</td>\n",
       "      <td>03:10</td>\n",
       "      <td>1</td>\n",
       "      <td>LANSDOWNE STATION</td>\n",
       "      <td>SUDP</td>\n",
       "      <td>3</td>\n",
       "      <td>8</td>\n",
       "      <td>W</td>\n",
       "      <td>BD</td>\n",
       "      <td>...</td>\n",
       "      <td>False</td>\n",
       "      <td>True</td>\n",
       "      <td>False</td>\n",
       "      <td>False</td>\n",
       "      <td>False</td>\n",
       "      <td>False</td>\n",
       "      <td>2014</td>\n",
       "      <td>1</td>\n",
       "      <td>Toronto</td>\n",
       "      <td>LANSDOWNE STATION Toronto</td>\n",
       "    </tr>\n",
       "    <tr>\n",
       "      <th>4</th>\n",
       "      <td>4</td>\n",
       "      <td>2014-01-01</td>\n",
       "      <td>03:20</td>\n",
       "      <td>1</td>\n",
       "      <td>BLOOR STATION</td>\n",
       "      <td>MUSAN</td>\n",
       "      <td>5</td>\n",
       "      <td>10</td>\n",
       "      <td>S</td>\n",
       "      <td>YU</td>\n",
       "      <td>...</td>\n",
       "      <td>False</td>\n",
       "      <td>False</td>\n",
       "      <td>False</td>\n",
       "      <td>True</td>\n",
       "      <td>False</td>\n",
       "      <td>False</td>\n",
       "      <td>2014</td>\n",
       "      <td>1</td>\n",
       "      <td>Toronto</td>\n",
       "      <td>BLOOR STATION Toronto</td>\n",
       "    </tr>\n",
       "  </tbody>\n",
       "</table>\n",
       "<p>5 rows × 21 columns</p>\n",
       "</div>"
      ],
      "text/plain": [
       "   Unnamed: 0       Date   Time  Day                Station   Code  Min Delay  \\\n",
       "0           0 2014-01-01  00:21    1  VICTORIA PARK STATION  MUPR1         55   \n",
       "1           1 2014-01-01  02:06    1      HIGH PARK STATION   SUDP          3   \n",
       "2           2 2014-01-01  02:40    1       SHEPPARD STATION  MUNCA          0   \n",
       "3           3 2014-01-01  03:10    1      LANSDOWNE STATION   SUDP          3   \n",
       "4           4 2014-01-01  03:20    1          BLOOR STATION  MUSAN          5   \n",
       "\n",
       "   Min Gap Bound Line  ...  East Bound  West Bound  North Bound  South Bound  \\\n",
       "0       60     W   BD  ...       False        True        False        False   \n",
       "1        7     W   BD  ...       False        True        False        False   \n",
       "2        0   NaN   YU  ...       False       False        False        False   \n",
       "3        8     W   BD  ...       False        True        False        False   \n",
       "4       10     S   YU  ...       False       False        False         True   \n",
       "\n",
       "   Weekend-Sat  Weekend-Sun  Year  Month     City  \\\n",
       "0        False        False  2014      1  Toronto   \n",
       "1        False        False  2014      1  Toronto   \n",
       "2        False        False  2014      1  Toronto   \n",
       "3        False        False  2014      1  Toronto   \n",
       "4        False        False  2014      1  Toronto   \n",
       "\n",
       "                Station_Location  \n",
       "0  VICTORIA PARK STATION Toronto  \n",
       "1      HIGH PARK STATION Toronto  \n",
       "2       SHEPPARD STATION Toronto  \n",
       "3      LANSDOWNE STATION Toronto  \n",
       "4          BLOOR STATION Toronto  \n",
       "\n",
       "[5 rows x 21 columns]"
      ]
     },
     "execution_count": 10,
     "metadata": {},
     "output_type": "execute_result"
    }
   ],
   "source": [
    "ttc_df.head()"
   ]
  },
  {
   "cell_type": "code",
   "execution_count": 11,
   "metadata": {},
   "outputs": [],
   "source": [
    "ttc_df[['Hour','Minute']] = ttc_df['Time'].astype(str).str.split(':', expand=True).astype(int)\n",
    "#ttc_df"
   ]
  },
  {
   "cell_type": "code",
   "execution_count": 12,
   "metadata": {},
   "outputs": [],
   "source": [
    "#Craete a function to get part of the day(morning, noon,afternoon evening and night) from Timestamp\n",
    "def f(x):\n",
    "    if (x > 4) and (x <= 8):\n",
    "        return 'Early Morning'\n",
    "    elif (x > 8) and (x <= 12 ):\n",
    "        return 'Morning'\n",
    "    elif (x > 12) and (x <= 16):\n",
    "        return'Noon'\n",
    "    elif (x > 16) and (x <= 20) :\n",
    "        return 'Eve'\n",
    "    elif (x > 20) and (x <= 24):\n",
    "        return'Night'\n",
    "    elif (x <= 4):\n",
    "        return'Late Night'\n",
    "    "
   ]
  },
  {
   "cell_type": "code",
   "execution_count": 13,
   "metadata": {},
   "outputs": [],
   "source": [
    "ttc_df['Time-only'] = ttc_df['Hour'].apply(f)\n",
    "#ttc_df['Time-only']"
   ]
  },
  {
   "cell_type": "code",
   "execution_count": 14,
   "metadata": {},
   "outputs": [
    {
     "data": {
      "text/plain": [
       "464"
      ]
     },
     "execution_count": 14,
     "metadata": {},
     "output_type": "execute_result"
    }
   ],
   "source": [
    "len(ttc_df['Station'].unique())"
   ]
  },
  {
   "cell_type": "code",
   "execution_count": null,
   "metadata": {},
   "outputs": [],
   "source": [
    "#Get the list of all stations in dataset\n",
    "#stations = list(ttc_df['Station'].unique())\n",
    "#stations\n"
   ]
  },
  {
   "cell_type": "code",
   "execution_count": 15,
   "metadata": {},
   "outputs": [],
   "source": [
    "address_list_1 = ttc_df['Station_Location'].values"
   ]
  },
  {
   "cell_type": "code",
   "execution_count": 16,
   "metadata": {},
   "outputs": [
    {
     "data": {
      "text/plain": [
       "array(['VICTORIA PARK STATION Toronto', 'HIGH PARK STATION Toronto',\n",
       "       'SHEPPARD STATION Toronto', ..., 'GREENWOOD STATION Toronto',\n",
       "       'YUS/BD/SEPPARD SUBWAY Toronto', 'BLOOR DANFORTH SUBWAY Toronto'],\n",
       "      dtype=object)"
      ]
     },
     "execution_count": 16,
     "metadata": {},
     "output_type": "execute_result"
    }
   ],
   "source": [
    "address_list_1\n"
   ]
  },
  {
   "cell_type": "code",
   "execution_count": 17,
   "metadata": {},
   "outputs": [
    {
     "data": {
      "text/html": [
       "<div>\n",
       "<style scoped>\n",
       "    .dataframe tbody tr th:only-of-type {\n",
       "        vertical-align: middle;\n",
       "    }\n",
       "\n",
       "    .dataframe tbody tr th {\n",
       "        vertical-align: top;\n",
       "    }\n",
       "\n",
       "    .dataframe thead th {\n",
       "        text-align: right;\n",
       "    }\n",
       "</style>\n",
       "<table border=\"1\" class=\"dataframe\">\n",
       "  <thead>\n",
       "    <tr style=\"text-align: right;\">\n",
       "      <th></th>\n",
       "      <th>Unnamed: 0</th>\n",
       "      <th>Date</th>\n",
       "      <th>Time</th>\n",
       "      <th>Day</th>\n",
       "      <th>Station</th>\n",
       "      <th>Code</th>\n",
       "      <th>Min Delay</th>\n",
       "      <th>Min Gap</th>\n",
       "      <th>Bound</th>\n",
       "      <th>Line</th>\n",
       "      <th>...</th>\n",
       "      <th>South Bound</th>\n",
       "      <th>Weekend-Sat</th>\n",
       "      <th>Weekend-Sun</th>\n",
       "      <th>Year</th>\n",
       "      <th>Month</th>\n",
       "      <th>City</th>\n",
       "      <th>Station_Location</th>\n",
       "      <th>Hour</th>\n",
       "      <th>Minute</th>\n",
       "      <th>Time-only</th>\n",
       "    </tr>\n",
       "  </thead>\n",
       "  <tbody>\n",
       "    <tr>\n",
       "      <th>0</th>\n",
       "      <td>0</td>\n",
       "      <td>2014-01-01</td>\n",
       "      <td>00:21</td>\n",
       "      <td>1</td>\n",
       "      <td>VICTORIA PARK STATION</td>\n",
       "      <td>MUPR1</td>\n",
       "      <td>55</td>\n",
       "      <td>60</td>\n",
       "      <td>W</td>\n",
       "      <td>BD</td>\n",
       "      <td>...</td>\n",
       "      <td>False</td>\n",
       "      <td>False</td>\n",
       "      <td>False</td>\n",
       "      <td>2014</td>\n",
       "      <td>1</td>\n",
       "      <td>Toronto</td>\n",
       "      <td>VICTORIA PARK STATION Toronto</td>\n",
       "      <td>0</td>\n",
       "      <td>21</td>\n",
       "      <td>Late Night</td>\n",
       "    </tr>\n",
       "    <tr>\n",
       "      <th>1</th>\n",
       "      <td>1</td>\n",
       "      <td>2014-01-01</td>\n",
       "      <td>02:06</td>\n",
       "      <td>1</td>\n",
       "      <td>HIGH PARK STATION</td>\n",
       "      <td>SUDP</td>\n",
       "      <td>3</td>\n",
       "      <td>7</td>\n",
       "      <td>W</td>\n",
       "      <td>BD</td>\n",
       "      <td>...</td>\n",
       "      <td>False</td>\n",
       "      <td>False</td>\n",
       "      <td>False</td>\n",
       "      <td>2014</td>\n",
       "      <td>1</td>\n",
       "      <td>Toronto</td>\n",
       "      <td>HIGH PARK STATION Toronto</td>\n",
       "      <td>2</td>\n",
       "      <td>6</td>\n",
       "      <td>Late Night</td>\n",
       "    </tr>\n",
       "    <tr>\n",
       "      <th>2</th>\n",
       "      <td>2</td>\n",
       "      <td>2014-01-01</td>\n",
       "      <td>02:40</td>\n",
       "      <td>1</td>\n",
       "      <td>SHEPPARD STATION</td>\n",
       "      <td>MUNCA</td>\n",
       "      <td>0</td>\n",
       "      <td>0</td>\n",
       "      <td>NaN</td>\n",
       "      <td>YU</td>\n",
       "      <td>...</td>\n",
       "      <td>False</td>\n",
       "      <td>False</td>\n",
       "      <td>False</td>\n",
       "      <td>2014</td>\n",
       "      <td>1</td>\n",
       "      <td>Toronto</td>\n",
       "      <td>SHEPPARD STATION Toronto</td>\n",
       "      <td>2</td>\n",
       "      <td>40</td>\n",
       "      <td>Late Night</td>\n",
       "    </tr>\n",
       "    <tr>\n",
       "      <th>3</th>\n",
       "      <td>3</td>\n",
       "      <td>2014-01-01</td>\n",
       "      <td>03:10</td>\n",
       "      <td>1</td>\n",
       "      <td>LANSDOWNE STATION</td>\n",
       "      <td>SUDP</td>\n",
       "      <td>3</td>\n",
       "      <td>8</td>\n",
       "      <td>W</td>\n",
       "      <td>BD</td>\n",
       "      <td>...</td>\n",
       "      <td>False</td>\n",
       "      <td>False</td>\n",
       "      <td>False</td>\n",
       "      <td>2014</td>\n",
       "      <td>1</td>\n",
       "      <td>Toronto</td>\n",
       "      <td>LANSDOWNE STATION Toronto</td>\n",
       "      <td>3</td>\n",
       "      <td>10</td>\n",
       "      <td>Late Night</td>\n",
       "    </tr>\n",
       "    <tr>\n",
       "      <th>4</th>\n",
       "      <td>4</td>\n",
       "      <td>2014-01-01</td>\n",
       "      <td>03:20</td>\n",
       "      <td>1</td>\n",
       "      <td>BLOOR STATION</td>\n",
       "      <td>MUSAN</td>\n",
       "      <td>5</td>\n",
       "      <td>10</td>\n",
       "      <td>S</td>\n",
       "      <td>YU</td>\n",
       "      <td>...</td>\n",
       "      <td>True</td>\n",
       "      <td>False</td>\n",
       "      <td>False</td>\n",
       "      <td>2014</td>\n",
       "      <td>1</td>\n",
       "      <td>Toronto</td>\n",
       "      <td>BLOOR STATION Toronto</td>\n",
       "      <td>3</td>\n",
       "      <td>20</td>\n",
       "      <td>Late Night</td>\n",
       "    </tr>\n",
       "  </tbody>\n",
       "</table>\n",
       "<p>5 rows × 24 columns</p>\n",
       "</div>"
      ],
      "text/plain": [
       "   Unnamed: 0       Date   Time  Day                Station   Code  Min Delay  \\\n",
       "0           0 2014-01-01  00:21    1  VICTORIA PARK STATION  MUPR1         55   \n",
       "1           1 2014-01-01  02:06    1      HIGH PARK STATION   SUDP          3   \n",
       "2           2 2014-01-01  02:40    1       SHEPPARD STATION  MUNCA          0   \n",
       "3           3 2014-01-01  03:10    1      LANSDOWNE STATION   SUDP          3   \n",
       "4           4 2014-01-01  03:20    1          BLOOR STATION  MUSAN          5   \n",
       "\n",
       "   Min Gap Bound Line  ...  South Bound  Weekend-Sat  Weekend-Sun  Year  \\\n",
       "0       60     W   BD  ...        False        False        False  2014   \n",
       "1        7     W   BD  ...        False        False        False  2014   \n",
       "2        0   NaN   YU  ...        False        False        False  2014   \n",
       "3        8     W   BD  ...        False        False        False  2014   \n",
       "4       10     S   YU  ...         True        False        False  2014   \n",
       "\n",
       "   Month     City               Station_Location  Hour  Minute   Time-only  \n",
       "0      1  Toronto  VICTORIA PARK STATION Toronto     0      21  Late Night  \n",
       "1      1  Toronto      HIGH PARK STATION Toronto     2       6  Late Night  \n",
       "2      1  Toronto       SHEPPARD STATION Toronto     2      40  Late Night  \n",
       "3      1  Toronto      LANSDOWNE STATION Toronto     3      10  Late Night  \n",
       "4      1  Toronto          BLOOR STATION Toronto     3      20  Late Night  \n",
       "\n",
       "[5 rows x 24 columns]"
      ]
     },
     "execution_count": 17,
     "metadata": {},
     "output_type": "execute_result"
    }
   ],
   "source": [
    "ttc_df.head()"
   ]
  },
  {
   "cell_type": "code",
   "execution_count": 18,
   "metadata": {},
   "outputs": [
    {
     "data": {
      "text/plain": [
       "Unnamed: 0              0\n",
       "Date                    0\n",
       "Time                    0\n",
       "Day                     0\n",
       "Station                 0\n",
       "Code                    1\n",
       "Min Delay               0\n",
       "Min Gap                 0\n",
       "Bound               24406\n",
       "Line                  438\n",
       "Vehicle                 0\n",
       "East Bound              0\n",
       "West Bound              0\n",
       "North Bound             0\n",
       "South Bound             0\n",
       "Weekend-Sat             0\n",
       "Weekend-Sun             0\n",
       "Year                    0\n",
       "Month                   0\n",
       "City                    0\n",
       "Station_Location        0\n",
       "Hour                    0\n",
       "Minute                  0\n",
       "Time-only               0\n",
       "dtype: int64"
      ]
     },
     "execution_count": 18,
     "metadata": {},
     "output_type": "execute_result"
    }
   ],
   "source": [
    "ttc_df.isnull().sum()"
   ]
  },
  {
   "cell_type": "code",
   "execution_count": 19,
   "metadata": {},
   "outputs": [],
   "source": [
    "ttc_df = ttc_df[['Year', 'Month','Day','Hour','Minute', 'Time-only','Min Delay', 'Min Gap', 'Vehicle',\n",
    "                 'East Bound', 'West Bound', 'North Bound', 'South Bound',\n",
    "                 'Weekend-Sat', 'Weekend-Sun', \n",
    "                 'Code','Line',       \n",
    "                 'City', 'Station_Location'\n",
    "                   ]]  "
   ]
  },
  {
   "cell_type": "code",
   "execution_count": 20,
   "metadata": {},
   "outputs": [],
   "source": [
    "#ttc_df['West Bound'] = ttc_df['West Bound'].map({\"True\": 1, \"False\": 0})\n",
    "#ttc_df['East Bound'] = ttc_df['East Bound'].replace(to_replace = \"True\", value = 1)\n",
    "ttc_df[['East Bound']] = ttc_df[['East Bound']].astype('int')\n",
    "ttc_df[['West Bound']] = ttc_df[['West Bound']].astype('int')\n",
    "ttc_df[['North Bound']] = ttc_df[['North Bound']].astype('int')\n",
    "ttc_df[['South Bound']] = ttc_df[['South Bound']].astype('int')\n",
    "ttc_df[['Weekend-Sat']] = ttc_df[['Weekend-Sat']].astype('int')\n",
    "ttc_df[['Weekend-Sun']] = ttc_df[['Weekend-Sun']].astype('int')"
   ]
  },
  {
   "cell_type": "code",
   "execution_count": 21,
   "metadata": {},
   "outputs": [
    {
     "data": {
      "text/html": [
       "<div>\n",
       "<style scoped>\n",
       "    .dataframe tbody tr th:only-of-type {\n",
       "        vertical-align: middle;\n",
       "    }\n",
       "\n",
       "    .dataframe tbody tr th {\n",
       "        vertical-align: top;\n",
       "    }\n",
       "\n",
       "    .dataframe thead th {\n",
       "        text-align: right;\n",
       "    }\n",
       "</style>\n",
       "<table border=\"1\" class=\"dataframe\">\n",
       "  <thead>\n",
       "    <tr style=\"text-align: right;\">\n",
       "      <th></th>\n",
       "      <th>Year</th>\n",
       "      <th>Month</th>\n",
       "      <th>Day</th>\n",
       "      <th>Hour</th>\n",
       "      <th>Minute</th>\n",
       "      <th>Time-only</th>\n",
       "      <th>Min Delay</th>\n",
       "      <th>Min Gap</th>\n",
       "      <th>Vehicle</th>\n",
       "      <th>East Bound</th>\n",
       "      <th>West Bound</th>\n",
       "      <th>North Bound</th>\n",
       "      <th>South Bound</th>\n",
       "      <th>Weekend-Sat</th>\n",
       "      <th>Weekend-Sun</th>\n",
       "      <th>Code</th>\n",
       "      <th>Line</th>\n",
       "      <th>City</th>\n",
       "      <th>Station_Location</th>\n",
       "    </tr>\n",
       "  </thead>\n",
       "  <tbody>\n",
       "    <tr>\n",
       "      <th>0</th>\n",
       "      <td>2014</td>\n",
       "      <td>1</td>\n",
       "      <td>1</td>\n",
       "      <td>0</td>\n",
       "      <td>21</td>\n",
       "      <td>Late Night</td>\n",
       "      <td>55</td>\n",
       "      <td>60</td>\n",
       "      <td>5111</td>\n",
       "      <td>0</td>\n",
       "      <td>1</td>\n",
       "      <td>0</td>\n",
       "      <td>0</td>\n",
       "      <td>0</td>\n",
       "      <td>0</td>\n",
       "      <td>MUPR1</td>\n",
       "      <td>BD</td>\n",
       "      <td>Toronto</td>\n",
       "      <td>VICTORIA PARK STATION Toronto</td>\n",
       "    </tr>\n",
       "    <tr>\n",
       "      <th>1</th>\n",
       "      <td>2014</td>\n",
       "      <td>1</td>\n",
       "      <td>1</td>\n",
       "      <td>2</td>\n",
       "      <td>6</td>\n",
       "      <td>Late Night</td>\n",
       "      <td>3</td>\n",
       "      <td>7</td>\n",
       "      <td>5001</td>\n",
       "      <td>0</td>\n",
       "      <td>1</td>\n",
       "      <td>0</td>\n",
       "      <td>0</td>\n",
       "      <td>0</td>\n",
       "      <td>0</td>\n",
       "      <td>SUDP</td>\n",
       "      <td>BD</td>\n",
       "      <td>Toronto</td>\n",
       "      <td>HIGH PARK STATION Toronto</td>\n",
       "    </tr>\n",
       "    <tr>\n",
       "      <th>2</th>\n",
       "      <td>2014</td>\n",
       "      <td>1</td>\n",
       "      <td>1</td>\n",
       "      <td>2</td>\n",
       "      <td>40</td>\n",
       "      <td>Late Night</td>\n",
       "      <td>0</td>\n",
       "      <td>0</td>\n",
       "      <td>0</td>\n",
       "      <td>0</td>\n",
       "      <td>0</td>\n",
       "      <td>0</td>\n",
       "      <td>0</td>\n",
       "      <td>0</td>\n",
       "      <td>0</td>\n",
       "      <td>MUNCA</td>\n",
       "      <td>YU</td>\n",
       "      <td>Toronto</td>\n",
       "      <td>SHEPPARD STATION Toronto</td>\n",
       "    </tr>\n",
       "    <tr>\n",
       "      <th>3</th>\n",
       "      <td>2014</td>\n",
       "      <td>1</td>\n",
       "      <td>1</td>\n",
       "      <td>3</td>\n",
       "      <td>10</td>\n",
       "      <td>Late Night</td>\n",
       "      <td>3</td>\n",
       "      <td>8</td>\n",
       "      <td>5116</td>\n",
       "      <td>0</td>\n",
       "      <td>1</td>\n",
       "      <td>0</td>\n",
       "      <td>0</td>\n",
       "      <td>0</td>\n",
       "      <td>0</td>\n",
       "      <td>SUDP</td>\n",
       "      <td>BD</td>\n",
       "      <td>Toronto</td>\n",
       "      <td>LANSDOWNE STATION Toronto</td>\n",
       "    </tr>\n",
       "    <tr>\n",
       "      <th>4</th>\n",
       "      <td>2014</td>\n",
       "      <td>1</td>\n",
       "      <td>1</td>\n",
       "      <td>3</td>\n",
       "      <td>20</td>\n",
       "      <td>Late Night</td>\n",
       "      <td>5</td>\n",
       "      <td>10</td>\n",
       "      <td>5386</td>\n",
       "      <td>0</td>\n",
       "      <td>0</td>\n",
       "      <td>0</td>\n",
       "      <td>1</td>\n",
       "      <td>0</td>\n",
       "      <td>0</td>\n",
       "      <td>MUSAN</td>\n",
       "      <td>YU</td>\n",
       "      <td>Toronto</td>\n",
       "      <td>BLOOR STATION Toronto</td>\n",
       "    </tr>\n",
       "  </tbody>\n",
       "</table>\n",
       "</div>"
      ],
      "text/plain": [
       "   Year  Month  Day  Hour  Minute   Time-only  Min Delay  Min Gap  Vehicle  \\\n",
       "0  2014      1    1     0      21  Late Night         55       60     5111   \n",
       "1  2014      1    1     2       6  Late Night          3        7     5001   \n",
       "2  2014      1    1     2      40  Late Night          0        0        0   \n",
       "3  2014      1    1     3      10  Late Night          3        8     5116   \n",
       "4  2014      1    1     3      20  Late Night          5       10     5386   \n",
       "\n",
       "   East Bound  West Bound  North Bound  South Bound  Weekend-Sat  Weekend-Sun  \\\n",
       "0           0           1            0            0            0            0   \n",
       "1           0           1            0            0            0            0   \n",
       "2           0           0            0            0            0            0   \n",
       "3           0           1            0            0            0            0   \n",
       "4           0           0            0            1            0            0   \n",
       "\n",
       "    Code Line     City               Station_Location  \n",
       "0  MUPR1   BD  Toronto  VICTORIA PARK STATION Toronto  \n",
       "1   SUDP   BD  Toronto      HIGH PARK STATION Toronto  \n",
       "2  MUNCA   YU  Toronto       SHEPPARD STATION Toronto  \n",
       "3   SUDP   BD  Toronto      LANSDOWNE STATION Toronto  \n",
       "4  MUSAN   YU  Toronto          BLOOR STATION Toronto  "
      ]
     },
     "execution_count": 21,
     "metadata": {},
     "output_type": "execute_result"
    }
   ],
   "source": [
    "ttc_df.head()\n"
   ]
  },
  {
   "cell_type": "code",
   "execution_count": 22,
   "metadata": {},
   "outputs": [
    {
     "name": "stdout",
     "output_type": "stream",
     "text": [
      "['BD' 'BD' 'YU' ... 'BD' 'YU/BD' 'BD']\n"
     ]
    }
   ],
   "source": [
    "ttc_df_line = ttc_df['Line'].values\n",
    "print(ttc_df_line)"
   ]
  },
  {
   "cell_type": "code",
   "execution_count": 23,
   "metadata": {},
   "outputs": [],
   "source": [
    "ttc_df['Time-range']=len(ttc_df['Time-only'].unique())\n",
    "\n",
    "#ttc_df['Time-range']= ttc_df['Time-only'].values\n",
    "Time_range = ttc_df['Time-only'].values\n",
    "#Early Morning, Morning, Noon, Evening, Night,Late Night"
   ]
  },
  {
   "cell_type": "code",
   "execution_count": 24,
   "metadata": {},
   "outputs": [],
   "source": [
    "def f(x):\n",
    "    if (x > 4) and (x <= 8):\n",
    "        return 1 \n",
    "    elif (x > 8) and (x <= 12 ):\n",
    "        return 2 \n",
    "    elif (x > 12) and (x <= 16):\n",
    "        return 3\n",
    "    elif (x > 16) and (x <= 20) :\n",
    "        return 4 \n",
    "    elif (x > 20) and (x <= 24):\n",
    "        return 5 \n",
    "    elif (x <= 4):\n",
    "        return 6 "
   ]
  },
  {
   "cell_type": "code",
   "execution_count": 25,
   "metadata": {},
   "outputs": [
    {
     "data": {
      "text/html": [
       "<div>\n",
       "<style scoped>\n",
       "    .dataframe tbody tr th:only-of-type {\n",
       "        vertical-align: middle;\n",
       "    }\n",
       "\n",
       "    .dataframe tbody tr th {\n",
       "        vertical-align: top;\n",
       "    }\n",
       "\n",
       "    .dataframe thead th {\n",
       "        text-align: right;\n",
       "    }\n",
       "</style>\n",
       "<table border=\"1\" class=\"dataframe\">\n",
       "  <thead>\n",
       "    <tr style=\"text-align: right;\">\n",
       "      <th></th>\n",
       "      <th>Year</th>\n",
       "      <th>Month</th>\n",
       "      <th>Day</th>\n",
       "      <th>Hour</th>\n",
       "      <th>Minute</th>\n",
       "      <th>Time-only</th>\n",
       "      <th>Min Delay</th>\n",
       "      <th>Min Gap</th>\n",
       "      <th>Vehicle</th>\n",
       "      <th>East Bound</th>\n",
       "      <th>...</th>\n",
       "      <th>North Bound</th>\n",
       "      <th>South Bound</th>\n",
       "      <th>Weekend-Sat</th>\n",
       "      <th>Weekend-Sun</th>\n",
       "      <th>Code</th>\n",
       "      <th>Line</th>\n",
       "      <th>City</th>\n",
       "      <th>Station_Location</th>\n",
       "      <th>Time-range</th>\n",
       "      <th>Day-Half</th>\n",
       "    </tr>\n",
       "  </thead>\n",
       "  <tbody>\n",
       "    <tr>\n",
       "      <th>0</th>\n",
       "      <td>2014</td>\n",
       "      <td>1</td>\n",
       "      <td>1</td>\n",
       "      <td>0</td>\n",
       "      <td>21</td>\n",
       "      <td>Late Night</td>\n",
       "      <td>55</td>\n",
       "      <td>60</td>\n",
       "      <td>5111</td>\n",
       "      <td>0</td>\n",
       "      <td>...</td>\n",
       "      <td>0</td>\n",
       "      <td>0</td>\n",
       "      <td>0</td>\n",
       "      <td>0</td>\n",
       "      <td>MUPR1</td>\n",
       "      <td>BD</td>\n",
       "      <td>Toronto</td>\n",
       "      <td>VICTORIA PARK STATION Toronto</td>\n",
       "      <td>6</td>\n",
       "      <td>6</td>\n",
       "    </tr>\n",
       "    <tr>\n",
       "      <th>1</th>\n",
       "      <td>2014</td>\n",
       "      <td>1</td>\n",
       "      <td>1</td>\n",
       "      <td>2</td>\n",
       "      <td>6</td>\n",
       "      <td>Late Night</td>\n",
       "      <td>3</td>\n",
       "      <td>7</td>\n",
       "      <td>5001</td>\n",
       "      <td>0</td>\n",
       "      <td>...</td>\n",
       "      <td>0</td>\n",
       "      <td>0</td>\n",
       "      <td>0</td>\n",
       "      <td>0</td>\n",
       "      <td>SUDP</td>\n",
       "      <td>BD</td>\n",
       "      <td>Toronto</td>\n",
       "      <td>HIGH PARK STATION Toronto</td>\n",
       "      <td>6</td>\n",
       "      <td>6</td>\n",
       "    </tr>\n",
       "    <tr>\n",
       "      <th>2</th>\n",
       "      <td>2014</td>\n",
       "      <td>1</td>\n",
       "      <td>1</td>\n",
       "      <td>2</td>\n",
       "      <td>40</td>\n",
       "      <td>Late Night</td>\n",
       "      <td>0</td>\n",
       "      <td>0</td>\n",
       "      <td>0</td>\n",
       "      <td>0</td>\n",
       "      <td>...</td>\n",
       "      <td>0</td>\n",
       "      <td>0</td>\n",
       "      <td>0</td>\n",
       "      <td>0</td>\n",
       "      <td>MUNCA</td>\n",
       "      <td>YU</td>\n",
       "      <td>Toronto</td>\n",
       "      <td>SHEPPARD STATION Toronto</td>\n",
       "      <td>6</td>\n",
       "      <td>6</td>\n",
       "    </tr>\n",
       "    <tr>\n",
       "      <th>3</th>\n",
       "      <td>2014</td>\n",
       "      <td>1</td>\n",
       "      <td>1</td>\n",
       "      <td>3</td>\n",
       "      <td>10</td>\n",
       "      <td>Late Night</td>\n",
       "      <td>3</td>\n",
       "      <td>8</td>\n",
       "      <td>5116</td>\n",
       "      <td>0</td>\n",
       "      <td>...</td>\n",
       "      <td>0</td>\n",
       "      <td>0</td>\n",
       "      <td>0</td>\n",
       "      <td>0</td>\n",
       "      <td>SUDP</td>\n",
       "      <td>BD</td>\n",
       "      <td>Toronto</td>\n",
       "      <td>LANSDOWNE STATION Toronto</td>\n",
       "      <td>6</td>\n",
       "      <td>6</td>\n",
       "    </tr>\n",
       "    <tr>\n",
       "      <th>4</th>\n",
       "      <td>2014</td>\n",
       "      <td>1</td>\n",
       "      <td>1</td>\n",
       "      <td>3</td>\n",
       "      <td>20</td>\n",
       "      <td>Late Night</td>\n",
       "      <td>5</td>\n",
       "      <td>10</td>\n",
       "      <td>5386</td>\n",
       "      <td>0</td>\n",
       "      <td>...</td>\n",
       "      <td>0</td>\n",
       "      <td>1</td>\n",
       "      <td>0</td>\n",
       "      <td>0</td>\n",
       "      <td>MUSAN</td>\n",
       "      <td>YU</td>\n",
       "      <td>Toronto</td>\n",
       "      <td>BLOOR STATION Toronto</td>\n",
       "      <td>6</td>\n",
       "      <td>6</td>\n",
       "    </tr>\n",
       "  </tbody>\n",
       "</table>\n",
       "<p>5 rows × 21 columns</p>\n",
       "</div>"
      ],
      "text/plain": [
       "   Year  Month  Day  Hour  Minute   Time-only  Min Delay  Min Gap  Vehicle  \\\n",
       "0  2014      1    1     0      21  Late Night         55       60     5111   \n",
       "1  2014      1    1     2       6  Late Night          3        7     5001   \n",
       "2  2014      1    1     2      40  Late Night          0        0        0   \n",
       "3  2014      1    1     3      10  Late Night          3        8     5116   \n",
       "4  2014      1    1     3      20  Late Night          5       10     5386   \n",
       "\n",
       "   East Bound  ...  North Bound  South Bound  Weekend-Sat  Weekend-Sun   Code  \\\n",
       "0           0  ...            0            0            0            0  MUPR1   \n",
       "1           0  ...            0            0            0            0   SUDP   \n",
       "2           0  ...            0            0            0            0  MUNCA   \n",
       "3           0  ...            0            0            0            0   SUDP   \n",
       "4           0  ...            0            1            0            0  MUSAN   \n",
       "\n",
       "  Line     City               Station_Location Time-range  Day-Half  \n",
       "0   BD  Toronto  VICTORIA PARK STATION Toronto          6         6  \n",
       "1   BD  Toronto      HIGH PARK STATION Toronto          6         6  \n",
       "2   YU  Toronto       SHEPPARD STATION Toronto          6         6  \n",
       "3   BD  Toronto      LANSDOWNE STATION Toronto          6         6  \n",
       "4   YU  Toronto          BLOOR STATION Toronto          6         6  \n",
       "\n",
       "[5 rows x 21 columns]"
      ]
     },
     "execution_count": 25,
     "metadata": {},
     "output_type": "execute_result"
    }
   ],
   "source": [
    "#Intervals of the day\n",
    "ttc_df['Day-Half'] = ttc_df['Hour'].apply(f)\n",
    "ttc_df.head()"
   ]
  },
  {
   "cell_type": "code",
   "execution_count": 27,
   "metadata": {},
   "outputs": [],
   "source": [
    "# Reselect the subset of data\n",
    "ttc_df = ttc_df[['Year', 'Month','Day','Hour','Minute', 'Day-Half','Min Delay', 'Min Gap', 'Vehicle',\n",
    "                 'East Bound', 'West Bound', 'North Bound', 'South Bound',\n",
    "                 'Weekend-Sat', 'Weekend-Sun', 'Station_Location',\n",
    "                   ]] "
   ]
  },
  {
   "cell_type": "code",
   "execution_count": 28,
   "metadata": {},
   "outputs": [
    {
     "data": {
      "text/html": [
       "<div>\n",
       "<style scoped>\n",
       "    .dataframe tbody tr th:only-of-type {\n",
       "        vertical-align: middle;\n",
       "    }\n",
       "\n",
       "    .dataframe tbody tr th {\n",
       "        vertical-align: top;\n",
       "    }\n",
       "\n",
       "    .dataframe thead th {\n",
       "        text-align: right;\n",
       "    }\n",
       "</style>\n",
       "<table border=\"1\" class=\"dataframe\">\n",
       "  <thead>\n",
       "    <tr style=\"text-align: right;\">\n",
       "      <th></th>\n",
       "      <th>Year</th>\n",
       "      <th>Month</th>\n",
       "      <th>Day</th>\n",
       "      <th>Hour</th>\n",
       "      <th>Minute</th>\n",
       "      <th>Day-Half</th>\n",
       "      <th>Min Delay</th>\n",
       "      <th>Min Gap</th>\n",
       "      <th>Vehicle</th>\n",
       "      <th>East Bound</th>\n",
       "      <th>West Bound</th>\n",
       "      <th>North Bound</th>\n",
       "      <th>South Bound</th>\n",
       "      <th>Weekend-Sat</th>\n",
       "      <th>Weekend-Sun</th>\n",
       "      <th>Station_Location</th>\n",
       "    </tr>\n",
       "  </thead>\n",
       "  <tbody>\n",
       "    <tr>\n",
       "      <th>0</th>\n",
       "      <td>2014</td>\n",
       "      <td>1</td>\n",
       "      <td>1</td>\n",
       "      <td>0</td>\n",
       "      <td>21</td>\n",
       "      <td>6</td>\n",
       "      <td>55</td>\n",
       "      <td>60</td>\n",
       "      <td>5111</td>\n",
       "      <td>0</td>\n",
       "      <td>1</td>\n",
       "      <td>0</td>\n",
       "      <td>0</td>\n",
       "      <td>0</td>\n",
       "      <td>0</td>\n",
       "      <td>VICTORIA PARK STATION Toronto</td>\n",
       "    </tr>\n",
       "    <tr>\n",
       "      <th>1</th>\n",
       "      <td>2014</td>\n",
       "      <td>1</td>\n",
       "      <td>1</td>\n",
       "      <td>2</td>\n",
       "      <td>6</td>\n",
       "      <td>6</td>\n",
       "      <td>3</td>\n",
       "      <td>7</td>\n",
       "      <td>5001</td>\n",
       "      <td>0</td>\n",
       "      <td>1</td>\n",
       "      <td>0</td>\n",
       "      <td>0</td>\n",
       "      <td>0</td>\n",
       "      <td>0</td>\n",
       "      <td>HIGH PARK STATION Toronto</td>\n",
       "    </tr>\n",
       "    <tr>\n",
       "      <th>2</th>\n",
       "      <td>2014</td>\n",
       "      <td>1</td>\n",
       "      <td>1</td>\n",
       "      <td>2</td>\n",
       "      <td>40</td>\n",
       "      <td>6</td>\n",
       "      <td>0</td>\n",
       "      <td>0</td>\n",
       "      <td>0</td>\n",
       "      <td>0</td>\n",
       "      <td>0</td>\n",
       "      <td>0</td>\n",
       "      <td>0</td>\n",
       "      <td>0</td>\n",
       "      <td>0</td>\n",
       "      <td>SHEPPARD STATION Toronto</td>\n",
       "    </tr>\n",
       "    <tr>\n",
       "      <th>3</th>\n",
       "      <td>2014</td>\n",
       "      <td>1</td>\n",
       "      <td>1</td>\n",
       "      <td>3</td>\n",
       "      <td>10</td>\n",
       "      <td>6</td>\n",
       "      <td>3</td>\n",
       "      <td>8</td>\n",
       "      <td>5116</td>\n",
       "      <td>0</td>\n",
       "      <td>1</td>\n",
       "      <td>0</td>\n",
       "      <td>0</td>\n",
       "      <td>0</td>\n",
       "      <td>0</td>\n",
       "      <td>LANSDOWNE STATION Toronto</td>\n",
       "    </tr>\n",
       "    <tr>\n",
       "      <th>4</th>\n",
       "      <td>2014</td>\n",
       "      <td>1</td>\n",
       "      <td>1</td>\n",
       "      <td>3</td>\n",
       "      <td>20</td>\n",
       "      <td>6</td>\n",
       "      <td>5</td>\n",
       "      <td>10</td>\n",
       "      <td>5386</td>\n",
       "      <td>0</td>\n",
       "      <td>0</td>\n",
       "      <td>0</td>\n",
       "      <td>1</td>\n",
       "      <td>0</td>\n",
       "      <td>0</td>\n",
       "      <td>BLOOR STATION Toronto</td>\n",
       "    </tr>\n",
       "  </tbody>\n",
       "</table>\n",
       "</div>"
      ],
      "text/plain": [
       "   Year  Month  Day  Hour  Minute  Day-Half  Min Delay  Min Gap  Vehicle  \\\n",
       "0  2014      1    1     0      21         6         55       60     5111   \n",
       "1  2014      1    1     2       6         6          3        7     5001   \n",
       "2  2014      1    1     2      40         6          0        0        0   \n",
       "3  2014      1    1     3      10         6          3        8     5116   \n",
       "4  2014      1    1     3      20         6          5       10     5386   \n",
       "\n",
       "   East Bound  West Bound  North Bound  South Bound  Weekend-Sat  Weekend-Sun  \\\n",
       "0           0           1            0            0            0            0   \n",
       "1           0           1            0            0            0            0   \n",
       "2           0           0            0            0            0            0   \n",
       "3           0           1            0            0            0            0   \n",
       "4           0           0            0            1            0            0   \n",
       "\n",
       "                Station_Location  \n",
       "0  VICTORIA PARK STATION Toronto  \n",
       "1      HIGH PARK STATION Toronto  \n",
       "2       SHEPPARD STATION Toronto  \n",
       "3      LANSDOWNE STATION Toronto  \n",
       "4          BLOOR STATION Toronto  "
      ]
     },
     "execution_count": 28,
     "metadata": {},
     "output_type": "execute_result"
    }
   ],
   "source": [
    "ttc_df.head()"
   ]
  },
  {
   "cell_type": "code",
   "execution_count": 29,
   "metadata": {},
   "outputs": [
    {
     "data": {
      "text/html": [
       "<div>\n",
       "<style scoped>\n",
       "    .dataframe tbody tr th:only-of-type {\n",
       "        vertical-align: middle;\n",
       "    }\n",
       "\n",
       "    .dataframe tbody tr th {\n",
       "        vertical-align: top;\n",
       "    }\n",
       "\n",
       "    .dataframe thead th {\n",
       "        text-align: right;\n",
       "    }\n",
       "</style>\n",
       "<table border=\"1\" class=\"dataframe\">\n",
       "  <thead>\n",
       "    <tr style=\"text-align: right;\">\n",
       "      <th></th>\n",
       "      <th>Station_Location</th>\n",
       "      <th>station_code</th>\n",
       "    </tr>\n",
       "  </thead>\n",
       "  <tbody>\n",
       "    <tr>\n",
       "      <th>0</th>\n",
       "      <td>VICTORIA PARK STATION Toronto</td>\n",
       "      <td>382</td>\n",
       "    </tr>\n",
       "    <tr>\n",
       "      <th>1</th>\n",
       "      <td>HIGH PARK STATION Toronto</td>\n",
       "      <td>154</td>\n",
       "    </tr>\n",
       "    <tr>\n",
       "      <th>2</th>\n",
       "      <td>SHEPPARD STATION Toronto</td>\n",
       "      <td>299</td>\n",
       "    </tr>\n",
       "    <tr>\n",
       "      <th>3</th>\n",
       "      <td>LANSDOWNE STATION Toronto</td>\n",
       "      <td>216</td>\n",
       "    </tr>\n",
       "    <tr>\n",
       "      <th>4</th>\n",
       "      <td>BLOOR STATION Toronto</td>\n",
       "      <td>20</td>\n",
       "    </tr>\n",
       "    <tr>\n",
       "      <th>5</th>\n",
       "      <td>DUFFERIN STATION Toronto</td>\n",
       "      <td>78</td>\n",
       "    </tr>\n",
       "    <tr>\n",
       "      <th>6</th>\n",
       "      <td>NORTH YORK CTR STATION Toronto</td>\n",
       "      <td>252</td>\n",
       "    </tr>\n",
       "    <tr>\n",
       "      <th>7</th>\n",
       "      <td>SHEPPARD STATION Toronto</td>\n",
       "      <td>299</td>\n",
       "    </tr>\n",
       "    <tr>\n",
       "      <th>8</th>\n",
       "      <td>QUEEN STATION Toronto</td>\n",
       "      <td>273</td>\n",
       "    </tr>\n",
       "    <tr>\n",
       "      <th>9</th>\n",
       "      <td>RUNNYMEDE STATION Toronto</td>\n",
       "      <td>285</td>\n",
       "    </tr>\n",
       "    <tr>\n",
       "      <th>10</th>\n",
       "      <td>ST ANDREW STATION Toronto</td>\n",
       "      <td>325</td>\n",
       "    </tr>\n",
       "  </tbody>\n",
       "</table>\n",
       "</div>"
      ],
      "text/plain": [
       "                  Station_Location  station_code\n",
       "0    VICTORIA PARK STATION Toronto           382\n",
       "1        HIGH PARK STATION Toronto           154\n",
       "2         SHEPPARD STATION Toronto           299\n",
       "3        LANSDOWNE STATION Toronto           216\n",
       "4            BLOOR STATION Toronto            20\n",
       "5         DUFFERIN STATION Toronto            78\n",
       "6   NORTH YORK CTR STATION Toronto           252\n",
       "7         SHEPPARD STATION Toronto           299\n",
       "8            QUEEN STATION Toronto           273\n",
       "9        RUNNYMEDE STATION Toronto           285\n",
       "10       ST ANDREW STATION Toronto           325"
      ]
     },
     "execution_count": 29,
     "metadata": {},
     "output_type": "execute_result"
    }
   ],
   "source": [
    "from sklearn.preprocessing import LabelEncoder\n",
    "\n",
    "lb_station = LabelEncoder()\n",
    "ttc_df[\"station_code\"] = lb_station.fit_transform(ttc_df[\"Station_Location\"])\n",
    "ttc_df[[\"Station_Location\", \"station_code\"]].head(11)"
   ]
  },
  {
   "cell_type": "code",
   "execution_count": 30,
   "metadata": {},
   "outputs": [],
   "source": [
    "#ttc_df\n",
    "# using list comprehension to create delay column conditionally\n",
    "ttc_df['Delay'] = [1 if x != 0 else 0 for x in ttc_df['Min Delay']]"
   ]
  },
  {
   "cell_type": "code",
   "execution_count": 31,
   "metadata": {},
   "outputs": [
    {
     "data": {
      "text/html": [
       "<div>\n",
       "<style scoped>\n",
       "    .dataframe tbody tr th:only-of-type {\n",
       "        vertical-align: middle;\n",
       "    }\n",
       "\n",
       "    .dataframe tbody tr th {\n",
       "        vertical-align: top;\n",
       "    }\n",
       "\n",
       "    .dataframe thead th {\n",
       "        text-align: right;\n",
       "    }\n",
       "</style>\n",
       "<table border=\"1\" class=\"dataframe\">\n",
       "  <thead>\n",
       "    <tr style=\"text-align: right;\">\n",
       "      <th></th>\n",
       "      <th>Year</th>\n",
       "      <th>Month</th>\n",
       "      <th>Day</th>\n",
       "      <th>Hour</th>\n",
       "      <th>Minute</th>\n",
       "      <th>Day-Half</th>\n",
       "      <th>Min Delay</th>\n",
       "      <th>Min Gap</th>\n",
       "      <th>Vehicle</th>\n",
       "      <th>East Bound</th>\n",
       "      <th>West Bound</th>\n",
       "      <th>North Bound</th>\n",
       "      <th>South Bound</th>\n",
       "      <th>Weekend-Sat</th>\n",
       "      <th>Weekend-Sun</th>\n",
       "      <th>Station_Location</th>\n",
       "      <th>station_code</th>\n",
       "      <th>Delay</th>\n",
       "    </tr>\n",
       "  </thead>\n",
       "  <tbody>\n",
       "    <tr>\n",
       "      <th>0</th>\n",
       "      <td>2014</td>\n",
       "      <td>1</td>\n",
       "      <td>1</td>\n",
       "      <td>0</td>\n",
       "      <td>21</td>\n",
       "      <td>6</td>\n",
       "      <td>55</td>\n",
       "      <td>60</td>\n",
       "      <td>5111</td>\n",
       "      <td>0</td>\n",
       "      <td>1</td>\n",
       "      <td>0</td>\n",
       "      <td>0</td>\n",
       "      <td>0</td>\n",
       "      <td>0</td>\n",
       "      <td>VICTORIA PARK STATION Toronto</td>\n",
       "      <td>382</td>\n",
       "      <td>1</td>\n",
       "    </tr>\n",
       "    <tr>\n",
       "      <th>1</th>\n",
       "      <td>2014</td>\n",
       "      <td>1</td>\n",
       "      <td>1</td>\n",
       "      <td>2</td>\n",
       "      <td>6</td>\n",
       "      <td>6</td>\n",
       "      <td>3</td>\n",
       "      <td>7</td>\n",
       "      <td>5001</td>\n",
       "      <td>0</td>\n",
       "      <td>1</td>\n",
       "      <td>0</td>\n",
       "      <td>0</td>\n",
       "      <td>0</td>\n",
       "      <td>0</td>\n",
       "      <td>HIGH PARK STATION Toronto</td>\n",
       "      <td>154</td>\n",
       "      <td>1</td>\n",
       "    </tr>\n",
       "    <tr>\n",
       "      <th>2</th>\n",
       "      <td>2014</td>\n",
       "      <td>1</td>\n",
       "      <td>1</td>\n",
       "      <td>2</td>\n",
       "      <td>40</td>\n",
       "      <td>6</td>\n",
       "      <td>0</td>\n",
       "      <td>0</td>\n",
       "      <td>0</td>\n",
       "      <td>0</td>\n",
       "      <td>0</td>\n",
       "      <td>0</td>\n",
       "      <td>0</td>\n",
       "      <td>0</td>\n",
       "      <td>0</td>\n",
       "      <td>SHEPPARD STATION Toronto</td>\n",
       "      <td>299</td>\n",
       "      <td>0</td>\n",
       "    </tr>\n",
       "    <tr>\n",
       "      <th>3</th>\n",
       "      <td>2014</td>\n",
       "      <td>1</td>\n",
       "      <td>1</td>\n",
       "      <td>3</td>\n",
       "      <td>10</td>\n",
       "      <td>6</td>\n",
       "      <td>3</td>\n",
       "      <td>8</td>\n",
       "      <td>5116</td>\n",
       "      <td>0</td>\n",
       "      <td>1</td>\n",
       "      <td>0</td>\n",
       "      <td>0</td>\n",
       "      <td>0</td>\n",
       "      <td>0</td>\n",
       "      <td>LANSDOWNE STATION Toronto</td>\n",
       "      <td>216</td>\n",
       "      <td>1</td>\n",
       "    </tr>\n",
       "    <tr>\n",
       "      <th>4</th>\n",
       "      <td>2014</td>\n",
       "      <td>1</td>\n",
       "      <td>1</td>\n",
       "      <td>3</td>\n",
       "      <td>20</td>\n",
       "      <td>6</td>\n",
       "      <td>5</td>\n",
       "      <td>10</td>\n",
       "      <td>5386</td>\n",
       "      <td>0</td>\n",
       "      <td>0</td>\n",
       "      <td>0</td>\n",
       "      <td>1</td>\n",
       "      <td>0</td>\n",
       "      <td>0</td>\n",
       "      <td>BLOOR STATION Toronto</td>\n",
       "      <td>20</td>\n",
       "      <td>1</td>\n",
       "    </tr>\n",
       "  </tbody>\n",
       "</table>\n",
       "</div>"
      ],
      "text/plain": [
       "   Year  Month  Day  Hour  Minute  Day-Half  Min Delay  Min Gap  Vehicle  \\\n",
       "0  2014      1    1     0      21         6         55       60     5111   \n",
       "1  2014      1    1     2       6         6          3        7     5001   \n",
       "2  2014      1    1     2      40         6          0        0        0   \n",
       "3  2014      1    1     3      10         6          3        8     5116   \n",
       "4  2014      1    1     3      20         6          5       10     5386   \n",
       "\n",
       "   East Bound  West Bound  North Bound  South Bound  Weekend-Sat  Weekend-Sun  \\\n",
       "0           0           1            0            0            0            0   \n",
       "1           0           1            0            0            0            0   \n",
       "2           0           0            0            0            0            0   \n",
       "3           0           1            0            0            0            0   \n",
       "4           0           0            0            1            0            0   \n",
       "\n",
       "                Station_Location  station_code  Delay  \n",
       "0  VICTORIA PARK STATION Toronto           382      1  \n",
       "1      HIGH PARK STATION Toronto           154      1  \n",
       "2       SHEPPARD STATION Toronto           299      0  \n",
       "3      LANSDOWNE STATION Toronto           216      1  \n",
       "4          BLOOR STATION Toronto            20      1  "
      ]
     },
     "execution_count": 31,
     "metadata": {},
     "output_type": "execute_result"
    }
   ],
   "source": [
    "ttc_df.head()"
   ]
  },
  {
   "cell_type": "code",
   "execution_count": 32,
   "metadata": {},
   "outputs": [],
   "source": [
    "ttc_df = ttc_df[['Year', 'Month','Day','Hour','Minute', 'Day-Half',  \n",
    "                 'East Bound', 'West Bound', 'North Bound', 'South Bound',\n",
    "                 'Weekend-Sat', 'Weekend-Sun', 'station_code', 'Delay'\n",
    "                   ]] "
   ]
  },
  {
   "cell_type": "code",
   "execution_count": 33,
   "metadata": {},
   "outputs": [
    {
     "data": {
      "text/html": [
       "<div>\n",
       "<style scoped>\n",
       "    .dataframe tbody tr th:only-of-type {\n",
       "        vertical-align: middle;\n",
       "    }\n",
       "\n",
       "    .dataframe tbody tr th {\n",
       "        vertical-align: top;\n",
       "    }\n",
       "\n",
       "    .dataframe thead th {\n",
       "        text-align: right;\n",
       "    }\n",
       "</style>\n",
       "<table border=\"1\" class=\"dataframe\">\n",
       "  <thead>\n",
       "    <tr style=\"text-align: right;\">\n",
       "      <th></th>\n",
       "      <th>Year</th>\n",
       "      <th>Month</th>\n",
       "      <th>Day</th>\n",
       "      <th>Hour</th>\n",
       "      <th>Minute</th>\n",
       "      <th>Day-Half</th>\n",
       "      <th>East Bound</th>\n",
       "      <th>West Bound</th>\n",
       "      <th>North Bound</th>\n",
       "      <th>South Bound</th>\n",
       "      <th>Weekend-Sat</th>\n",
       "      <th>Weekend-Sun</th>\n",
       "      <th>station_code</th>\n",
       "      <th>Delay</th>\n",
       "    </tr>\n",
       "  </thead>\n",
       "  <tbody>\n",
       "    <tr>\n",
       "      <th>0</th>\n",
       "      <td>2014</td>\n",
       "      <td>1</td>\n",
       "      <td>1</td>\n",
       "      <td>0</td>\n",
       "      <td>21</td>\n",
       "      <td>6</td>\n",
       "      <td>0</td>\n",
       "      <td>1</td>\n",
       "      <td>0</td>\n",
       "      <td>0</td>\n",
       "      <td>0</td>\n",
       "      <td>0</td>\n",
       "      <td>382</td>\n",
       "      <td>1</td>\n",
       "    </tr>\n",
       "    <tr>\n",
       "      <th>1</th>\n",
       "      <td>2014</td>\n",
       "      <td>1</td>\n",
       "      <td>1</td>\n",
       "      <td>2</td>\n",
       "      <td>6</td>\n",
       "      <td>6</td>\n",
       "      <td>0</td>\n",
       "      <td>1</td>\n",
       "      <td>0</td>\n",
       "      <td>0</td>\n",
       "      <td>0</td>\n",
       "      <td>0</td>\n",
       "      <td>154</td>\n",
       "      <td>1</td>\n",
       "    </tr>\n",
       "    <tr>\n",
       "      <th>2</th>\n",
       "      <td>2014</td>\n",
       "      <td>1</td>\n",
       "      <td>1</td>\n",
       "      <td>2</td>\n",
       "      <td>40</td>\n",
       "      <td>6</td>\n",
       "      <td>0</td>\n",
       "      <td>0</td>\n",
       "      <td>0</td>\n",
       "      <td>0</td>\n",
       "      <td>0</td>\n",
       "      <td>0</td>\n",
       "      <td>299</td>\n",
       "      <td>0</td>\n",
       "    </tr>\n",
       "    <tr>\n",
       "      <th>3</th>\n",
       "      <td>2014</td>\n",
       "      <td>1</td>\n",
       "      <td>1</td>\n",
       "      <td>3</td>\n",
       "      <td>10</td>\n",
       "      <td>6</td>\n",
       "      <td>0</td>\n",
       "      <td>1</td>\n",
       "      <td>0</td>\n",
       "      <td>0</td>\n",
       "      <td>0</td>\n",
       "      <td>0</td>\n",
       "      <td>216</td>\n",
       "      <td>1</td>\n",
       "    </tr>\n",
       "    <tr>\n",
       "      <th>4</th>\n",
       "      <td>2014</td>\n",
       "      <td>1</td>\n",
       "      <td>1</td>\n",
       "      <td>3</td>\n",
       "      <td>20</td>\n",
       "      <td>6</td>\n",
       "      <td>0</td>\n",
       "      <td>0</td>\n",
       "      <td>0</td>\n",
       "      <td>1</td>\n",
       "      <td>0</td>\n",
       "      <td>0</td>\n",
       "      <td>20</td>\n",
       "      <td>1</td>\n",
       "    </tr>\n",
       "  </tbody>\n",
       "</table>\n",
       "</div>"
      ],
      "text/plain": [
       "   Year  Month  Day  Hour  Minute  Day-Half  East Bound  West Bound  \\\n",
       "0  2014      1    1     0      21         6           0           1   \n",
       "1  2014      1    1     2       6         6           0           1   \n",
       "2  2014      1    1     2      40         6           0           0   \n",
       "3  2014      1    1     3      10         6           0           1   \n",
       "4  2014      1    1     3      20         6           0           0   \n",
       "\n",
       "   North Bound  South Bound  Weekend-Sat  Weekend-Sun  station_code  Delay  \n",
       "0            0            0            0            0           382      1  \n",
       "1            0            0            0            0           154      1  \n",
       "2            0            0            0            0           299      0  \n",
       "3            0            0            0            0           216      1  \n",
       "4            0            1            0            0            20      1  "
      ]
     },
     "execution_count": 33,
     "metadata": {},
     "output_type": "execute_result"
    }
   ],
   "source": [
    "ttc_df.head()\n",
    "#Delay =len(ttc_df['Min Delay'].unique())\n",
    "#Delay\n",
    "#ttc_df['Time-range']= ttc_df['Time-only'].values\n",
    "#Time_range = ttc_df['Time-only'].values"
   ]
  },
  {
   "cell_type": "markdown",
   "metadata": {},
   "source": [
    "## Split/Train Data"
   ]
  },
  {
   "cell_type": "markdown",
   "metadata": {},
   "source": [
    "To create a machine learning model, we need two datasets: one for training and one for testing.We will perform an 80-20 split on the DataFrame we prepared to train a machine learning model. \n",
    "\n",
    "We will also separate the DataFrame into feature columns and label columns. The former contains the columns used as input to the model while the latter contains the column that the model will attempt to predict — in this case, the Delay column, which indicates whether train will arrive on time."
   ]
  },
  {
   "cell_type": "code",
   "execution_count": null,
   "metadata": {},
   "outputs": [],
   "source": []
  },
  {
   "cell_type": "code",
   "execution_count": 35,
   "metadata": {},
   "outputs": [],
   "source": [
    "from sklearn.model_selection import train_test_split\n",
    "train_x, test_x, train_y, test_y = train_test_split( ttc_df.drop('Delay', axis=1), ttc_df['Delay'], test_size=0.2, random_state=42)"
   ]
  },
  {
   "cell_type": "markdown",
   "metadata": {},
   "source": [
    "- The first statement imports scikit-learn's train_test_split helper function.\n",
    "\n",
    "- The second line uses the function to split the DataFrame into a training set containing 80% of the original data, and a test set containing the remaining 20%. \n",
    "\n",
    "- The random_state parameter seeds the random-number generator used to do the splitting, while the first and second parameters are DataFrames containing the feature columns and the label column."
   ]
  },
  {
   "cell_type": "code",
   "execution_count": 36,
   "metadata": {},
   "outputs": [
    {
     "data": {
      "text/plain": [
       "(90010, 13)"
      ]
     },
     "execution_count": 36,
     "metadata": {},
     "output_type": "execute_result"
    }
   ],
   "source": [
    "train_x.shape"
   ]
  },
  {
   "cell_type": "code",
   "execution_count": 37,
   "metadata": {},
   "outputs": [
    {
     "data": {
      "text/plain": [
       "(22503, 13)"
      ]
     },
     "execution_count": 37,
     "metadata": {},
     "output_type": "execute_result"
    }
   ],
   "source": [
    "test_x.shape"
   ]
  },
  {
   "cell_type": "markdown",
   "metadata": {},
   "source": [
    "Our model will be a binary classification model that predicts whether a train will arrive on-time or late (\"binary\" because there are only two possible outputs).\n",
    "\n",
    "Using scikit-learn we don't have to build these models — or implement the algorithms that they use — by hand. Scikit-learn includes a variety of classes for implementing common machine learning models. One of them is RandomForestClassifier, which fits multiple decision trees to the data and uses averaging to boost the overall accuracy and limit overfitting."
   ]
  },
  {
   "cell_type": "markdown",
   "metadata": {},
   "source": [
    "We will create a RandomForestClassifier object and train it by calling the fit method."
   ]
  },
  {
   "cell_type": "code",
   "execution_count": 38,
   "metadata": {},
   "outputs": [
    {
     "data": {
      "text/plain": [
       "RandomForestClassifier(bootstrap=True, class_weight=None, criterion='gini',\n",
       "                       max_depth=None, max_features='auto', max_leaf_nodes=None,\n",
       "                       min_impurity_decrease=0.0, min_impurity_split=None,\n",
       "                       min_samples_leaf=1, min_samples_split=2,\n",
       "                       min_weight_fraction_leaf=0.0, n_estimators=10,\n",
       "                       n_jobs=None, oob_score=False, random_state=13, verbose=0,\n",
       "                       warm_start=False)"
      ]
     },
     "execution_count": 38,
     "metadata": {},
     "output_type": "execute_result"
    }
   ],
   "source": [
    "from sklearn.ensemble import RandomForestClassifier\n",
    "\n",
    "model = RandomForestClassifier(random_state=13)\n",
    "model.fit(train_x, train_y)"
   ]
  },
  {
   "cell_type": "markdown",
   "metadata": {},
   "source": [
    "The output shows the parameters used in the classifier, including n_estimators, which specifies the number of trees in each decision-tree forest, and max_depth, which specifies the maximum depth of the decision trees. The values shown are the defaults, but we can override any of them when creating the RandomForestClassifier object.\n",
    "\n",
    "We can tune the model for better accuracy results in the Hyperparameter tuning phase of this project."
   ]
  },
  {
   "cell_type": "code",
   "execution_count": 39,
   "metadata": {},
   "outputs": [
    {
     "data": {
      "text/plain": [
       "0.7117273252455228"
      ]
     },
     "execution_count": 39,
     "metadata": {},
     "output_type": "execute_result"
    }
   ],
   "source": [
    "predicted = model.predict(test_x)\n",
    "model.score(test_x, test_y)"
   ]
  },
  {
   "cell_type": "markdown",
   "metadata": {},
   "source": [
    "### Test the Model"
   ]
  },
  {
   "cell_type": "markdown",
   "metadata": {},
   "source": [
    "The mean accuracy is 71%, which seems not so good on the surface. However, mean accuracy isn't always a reliable indicator of the accuracy of a classification model. Let's dig a little deeper and determine how accurate the model really is — that is, how adept it is at determining whether a flight will arrive on time.\n",
    "\n",
    "\n",
    "There are several ways to measure the accuracy of a classification model. One of the best overall measures for a binary classification model is Area Under Receiver Operating Characteristic Curve (sometimes referred to as \"ROC AUC\"), which essentially quantifies how often the model will make a correct prediction regardless of the outcome. "
   ]
  },
  {
   "cell_type": "markdown",
   "metadata": {},
   "source": [
    "1. Before computing the ROC AUC, we must generate prediction probabilities for the test set. These probabilities are estimates for each of the classes, or answers, the model can predict. For example, [0.88199435, 0.11800565] means that there's an 89% chance that a train will arrive on time (Delay = 0) and a 12% chance that it won't (Delay = 1). The sum of the two probabilities adds up to 100%."
   ]
  },
  {
   "cell_type": "code",
   "execution_count": 48,
   "metadata": {},
   "outputs": [],
   "source": [
    "from sklearn.metrics import roc_auc_score\n",
    "probabilities = model.predict_proba(test_x)"
   ]
  },
  {
   "cell_type": "markdown",
   "metadata": {},
   "source": [
    "2. Now using the following statement we will generate an ROC AUC score from the probabilities using scikit-learn's"
   ]
  },
  {
   "cell_type": "code",
   "execution_count": 49,
   "metadata": {},
   "outputs": [
    {
     "data": {
      "text/plain": [
       "0.7261837467113406"
      ]
     },
     "execution_count": 49,
     "metadata": {},
     "output_type": "execute_result"
    }
   ],
   "source": [
    "roc_auc_score(test_y, probabilities[:, 1])"
   ]
  },
  {
   "cell_type": "markdown",
   "metadata": {},
   "source": [
    "ROC AUC takes this into account and provides a more accurate indication of how likely it is that a prediction of on-time or late will be correct."
   ]
  },
  {
   "cell_type": "markdown",
   "metadata": {},
   "source": [
    "3. We can further investigate model's behavior by generating a confusion matrix, also known as an error matrix. The confusion matrix quantifies the number of times each answer was classified correctly or incorrectly. Specifically, it quantifies the number of false positives, false negatives, true positives, and true negatives."
   ]
  },
  {
   "cell_type": "code",
   "execution_count": 50,
   "metadata": {},
   "outputs": [
    {
     "data": {
      "text/plain": [
       "array([[14086,  1761],\n",
       "       [ 4726,  1930]])"
      ]
     },
     "execution_count": 50,
     "metadata": {},
     "output_type": "execute_result"
    }
   ],
   "source": [
    "from sklearn.metrics import confusion_matrix\n",
    "confusion_matrix(test_y, predicted)"
   ]
  },
  {
   "cell_type": "markdown",
   "metadata": {},
   "source": [
    "4. Other measures of accuracy for a classification model include precision and recall. Suppose the model was presented with three on-time arrivals and three delayed arrivals, and that it correctly predicted two of the on-time arrivals, but incorrectly predicted that two of the delayed arrivals would be on time. "
   ]
  },
  {
   "cell_type": "markdown",
   "metadata": {},
   "source": [
    "Scikit-learn contains a handy method named precision_score for computing precision and recall_score for recall computation. To quantify the precision and recall of our model we will use scikit-learn's recall_score and precision_score method."
   ]
  },
  {
   "cell_type": "code",
   "execution_count": 51,
   "metadata": {},
   "outputs": [
    {
     "data": {
      "text/plain": [
       "0.9462596570567176"
      ]
     },
     "execution_count": 51,
     "metadata": {},
     "output_type": "execute_result"
    }
   ],
   "source": [
    "from sklearn.metrics import recall_score\n",
    "\n",
    "recall_score(train_y, train_predictions)"
   ]
  },
  {
   "cell_type": "code",
   "execution_count": 43,
   "metadata": {},
   "outputs": [
    {
     "data": {
      "text/plain": [
       "0.9961121910580394"
      ]
     },
     "execution_count": 43,
     "metadata": {},
     "output_type": "execute_result"
    }
   ],
   "source": [
    "from sklearn.metrics import precision_score\n",
    "\n",
    "train_predictions = model.predict(train_x)\n",
    "precision_score(train_y, train_predictions)"
   ]
  },
  {
   "cell_type": "markdown",
   "metadata": {},
   "source": [
    "### Visualize Output of Model"
   ]
  },
  {
   "cell_type": "markdown",
   "metadata": {},
   "source": [
    "We'll import Matplotlib into the notebook and configure the notebook to support inline Matplotlib output."
   ]
  },
  {
   "cell_type": "code",
   "execution_count": 45,
   "metadata": {},
   "outputs": [],
   "source": [
    "%matplotlib inline\n",
    "import matplotlib.pyplot as plt\n",
    "import seaborn as sns\n",
    "\n",
    "sns.set()"
   ]
  },
  {
   "cell_type": "code",
   "execution_count": 46,
   "metadata": {},
   "outputs": [
    {
     "data": {
      "text/plain": [
       "Text(0, 0.5, 'True Positive Rate')"
      ]
     },
     "execution_count": 46,
     "metadata": {},
     "output_type": "execute_result"
    },
    {
     "data": {
      "image/png": "[encoded data removed]",
      "text/plain": [
       "<Figure size 432x288 with 1 Axes>"
      ]
     },
     "metadata": {
      "needs_background": "light"
     },
     "output_type": "display_data"
    }
   ],
   "source": [
    "from sklearn.metrics import roc_curve\n",
    "\n",
    "fpr, tpr, _ = roc_curve(test_y, probabilities[:, 1])\n",
    "plt.plot(fpr, tpr)\n",
    "plt.plot([0, 1], [0, 1], color='grey', lw=1, linestyle='--')\n",
    "plt.xlabel('False Positive Rate')\n",
    "plt.ylabel('True Positive Rate')"
   ]
  },
  {
   "cell_type": "markdown",
   "metadata": {},
   "source": [
    "The dotted line in the middle of the graph represents a 50-50 chance of obtaining a correct answer. The blue curve represents the accuracy of our model."
   ]
  },
  {
   "cell_type": "markdown",
   "metadata": {},
   "source": [
    "The reason you built a machine-learning model is to predict whether a train will arrive on time or late. Now we will write a Python function that calls the machine-learning model that we built to compute the likelihood that train will be on time. Then we'll use the function to analyze different ttc arrivals."
   ]
  },
  {
   "cell_type": "code",
   "execution_count": null,
   "metadata": {},
   "outputs": [],
   "source": []
  }
 ],
 "metadata": {
  "kernelspec": {
   "display_name": "Python 3",
   "language": "python",
   "name": "python3"
  },
  "language_info": {
   "codemirror_mode": {
    "name": "ipython",
    "version": 3
   },
   "file_extension": ".py",
   "mimetype": "text/x-python",
   "name": "python",
   "nbconvert_exporter": "python",
   "pygments_lexer": "ipython3",
   "version": "3.7.3"
  }
 },
 "nbformat": 4,
 "nbformat_minor": 2
}
